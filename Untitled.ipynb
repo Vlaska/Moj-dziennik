{
 "cells": [
  {
   "cell_type": "code",
   "execution_count": 3,
   "metadata": {},
   "outputs": [],
   "source": [
    "from pathlib import Path\n",
    "import json\n",
    "from random import choices, randint\n",
    "from faker import Faker"
   ]
  },
  {
   "cell_type": "code",
   "execution_count": 4,
   "metadata": {},
   "outputs": [],
   "source": [
    "fa = Faker('pl')"
   ]
  },
  {
   "cell_type": "code",
   "execution_count": 5,
   "metadata": {},
   "outputs": [],
   "source": [
    "klasy = [*['1' + i for i in 'abcdef'], '2a', '3a', '3b', '3c']"
   ]
  },
  {
   "cell_type": "code",
   "execution_count": 7,
   "metadata": {},
   "outputs": [],
   "source": [
    "klasy_liczby = {i:randint(10, 32) for i in klasy}"
   ]
  },
  {
   "cell_type": "code",
   "execution_count": 9,
   "metadata": {},
   "outputs": [],
   "source": [
    "klasy_data = {}"
   ]
  },
  {
   "cell_type": "code",
   "execution_count": 10,
   "metadata": {},
   "outputs": [],
   "source": [
    "for i, liczby in klasy_liczby.items():\n",
    "    t = []\n",
    "    for j in range(liczby):\n",
    "        t.append({\n",
    "            'first_name': fa.first_name(),\n",
    "            'last_name': fa.last_name(),\n",
    "            'id': j + 1\n",
    "        })\n",
    "    klasy_data[i] = t"
   ]
  },
  {
   "cell_type": "code",
   "execution_count": 12,
   "metadata": {},
   "outputs": [
    {
     "data": {
      "text/plain": [
       "[{'first_name': 'Antoni', 'last_name': 'Pyza', 'id': 1},\n",
       " {'first_name': 'Przemysław', 'last_name': 'Rohde', 'id': 2},\n",
       " {'first_name': 'Aleksander', 'last_name': 'Jagiełka', 'id': 3},\n",
       " {'first_name': 'Maksymilian', 'last_name': 'Sulich', 'id': 4},\n",
       " {'first_name': 'Robert', 'last_name': 'Wakuła', 'id': 5},\n",
       " {'first_name': 'Krystian', 'last_name': 'Fikus', 'id': 6},\n",
       " {'first_name': 'Norbert', 'last_name': 'Makaruk', 'id': 7},\n",
       " {'first_name': 'Kalina', 'last_name': 'Krochmal', 'id': 8},\n",
       " {'first_name': 'Dorota', 'last_name': 'Bodziony', 'id': 9},\n",
       " {'first_name': 'Emil', 'last_name': 'Pych', 'id': 10},\n",
       " {'first_name': 'Kaja', 'last_name': 'Getka', 'id': 11},\n",
       " {'first_name': 'Ernest', 'last_name': 'Kapuścik', 'id': 12}]"
      ]
     },
     "execution_count": 12,
     "metadata": {},
     "output_type": "execute_result"
    }
   ],
   "source": [
    "klasy_data['3c']"
   ]
  },
  {
   "cell_type": "code",
   "execution_count": 16,
   "metadata": {},
   "outputs": [],
   "source": [
    "klasy_dir = Path('./src/klasy')"
   ]
  },
  {
   "cell_type": "code",
   "execution_count": 17,
   "metadata": {},
   "outputs": [],
   "source": [
    "for i, v in {'3c': klasy_data['3c']}.items():\n",
    "    o = klasy_dir / i / f'{i}.json'\n",
    "    o.parent.mkdir(parents=True)\n",
    "    o.write_text(json.dumps(v, indent=4))"
   ]
  },
  {
   "cell_type": "code",
   "execution_count": null,
   "metadata": {},
   "outputs": [],
   "source": []
  }
 ],
 "metadata": {
  "kernelspec": {
   "display_name": "Python 3",
   "language": "python",
   "name": "python3"
  },
  "language_info": {
   "codemirror_mode": {
    "name": "ipython",
    "version": 3
   },
   "file_extension": ".py",
   "mimetype": "text/x-python",
   "name": "python",
   "nbconvert_exporter": "python",
   "pygments_lexer": "ipython3",
   "version": "3.8.7rc1"
  }
 },
 "nbformat": 4,
 "nbformat_minor": 4
}
