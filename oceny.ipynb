{
 "cells": [
  {
   "cell_type": "code",
   "execution_count": 1,
   "metadata": {},
   "outputs": [],
   "source": [
    "from pathlib import Path\n",
    "import json\n",
    "from random import choices, randint, choice, sample\n",
    "from itertools import product"
   ]
  },
  {
   "cell_type": "code",
   "execution_count": 2,
   "metadata": {},
   "outputs": [],
   "source": [
    "typy_ocen = [{'name': 'Odpowiedź ustna', 'weight': 50}, {'name': 'Sprawdzian', 'weight': 80}, {'name': 'Kartkówka', 'weight': 40}, {'name': 'Praca domowa', 'weight': 60}, {'name': 'Aktywność', 'weight': 15}]\n",
    "klasy_polski = ['1a', '1b', '3b', '3c']\n",
    "klasy_inf = [*['1' + i for i in 'abcdef'], '2a', '3a', '3c']"
   ]
  },
  {
   "cell_type": "code",
   "execution_count": 3,
   "metadata": {},
   "outputs": [],
   "source": [
    "grades = ['1', *[i + j for i, j in product('2345', '+-=')], '6']"
   ]
  },
  {
   "cell_type": "code",
   "execution_count": 8,
   "metadata": {},
   "outputs": [],
   "source": [
    "def typy_ocen_z_przedmiotu(klasy):\n",
    "    out = {}\n",
    "    for i in klasy:\n",
    "        o = randint(4, 8)\n",
    "        t = [i['name'] for i in choices(typy_ocen, k=o)]\n",
    "        t.sort()\n",
    "        r = {}\n",
    "        for j in t:\n",
    "            r[j] = t.count(j)\n",
    "        out_ = []\n",
    "        for k, v in r.items():\n",
    "            for l in range(v):\n",
    "                out_.append(f'{k} {l + 1}')\n",
    "        out[i] = out_\n",
    "    return out"
   ]
  },
  {
   "cell_type": "code",
   "execution_count": 9,
   "metadata": {},
   "outputs": [],
   "source": [
    "typy_ocen_z_polskiego = typy_ocen_z_przedmiotu(klasy_polski)"
   ]
  },
  {
   "cell_type": "code",
   "execution_count": 10,
   "metadata": {},
   "outputs": [],
   "source": [
    "typy_ocen_z_infy = typy_ocen_z_przedmiotu(klasy_inf)"
   ]
  },
  {
   "cell_type": "code",
   "execution_count": 11,
   "metadata": {
    "collapsed": true,
    "jupyter": {
     "outputs_hidden": true
    }
   },
   "outputs": [
    {
     "output_type": "execute_result",
     "data": {
      "text/plain": [
       "{'1a': ['Aktywność 1',\n",
       "  'Aktywność 2',\n",
       "  'Aktywność 3',\n",
       "  'Kartkówka 1',\n",
       "  'Praca domowa 1',\n",
       "  'Praca domowa 2',\n",
       "  'Praca domowa 3'],\n",
       " '1b': ['Aktywność 1',\n",
       "  'Aktywność 2',\n",
       "  'Odpowiedź ustna 1',\n",
       "  'Odpowiedź ustna 2',\n",
       "  'Praca domowa 1',\n",
       "  'Sprawdzian 1'],\n",
       " '3b': ['Kartkówka 1',\n",
       "  'Praca domowa 1',\n",
       "  'Praca domowa 2',\n",
       "  'Praca domowa 3',\n",
       "  'Sprawdzian 1',\n",
       "  'Sprawdzian 2',\n",
       "  'Sprawdzian 3'],\n",
       " '3c': ['Aktywność 1',\n",
       "  'Odpowiedź ustna 1',\n",
       "  'Praca domowa 1',\n",
       "  'Praca domowa 2',\n",
       "  'Sprawdzian 1']}"
      ]
     },
     "metadata": {},
     "execution_count": 11
    }
   ],
   "source": [
    "typy_ocen_z_polskiego"
   ]
  },
  {
   "cell_type": "code",
   "execution_count": 12,
   "metadata": {
    "collapsed": true,
    "jupyter": {
     "outputs_hidden": true
    }
   },
   "outputs": [
    {
     "output_type": "execute_result",
     "data": {
      "text/plain": [
       "{'1a': ['Aktywność 1',\n",
       "  'Aktywność 2',\n",
       "  'Aktywność 3',\n",
       "  'Aktywność 4',\n",
       "  'Aktywność 5',\n",
       "  'Kartkówka 1',\n",
       "  'Sprawdzian 1',\n",
       "  'Sprawdzian 2'],\n",
       " '1b': ['Aktywność 1',\n",
       "  'Kartkówka 1',\n",
       "  'Kartkówka 2',\n",
       "  'Odpowiedź ustna 1',\n",
       "  'Praca domowa 1',\n",
       "  'Praca domowa 2'],\n",
       " '1c': ['Aktywność 1',\n",
       "  'Aktywność 2',\n",
       "  'Aktywność 3',\n",
       "  'Odpowiedź ustna 1',\n",
       "  'Praca domowa 1'],\n",
       " '1d': ['Aktywność 1', 'Kartkówka 1', 'Kartkówka 2', 'Praca domowa 1'],\n",
       " '1e': ['Kartkówka 1',\n",
       "  'Odpowiedź ustna 1',\n",
       "  'Odpowiedź ustna 2',\n",
       "  'Odpowiedź ustna 3',\n",
       "  'Praca domowa 1',\n",
       "  'Sprawdzian 1'],\n",
       " '1f': ['Odpowiedź ustna 1',\n",
       "  'Praca domowa 1',\n",
       "  'Praca domowa 2',\n",
       "  'Praca domowa 3',\n",
       "  'Sprawdzian 1',\n",
       "  'Sprawdzian 2',\n",
       "  'Sprawdzian 3'],\n",
       " '2a': ['Aktywność 1',\n",
       "  'Aktywność 2',\n",
       "  'Kartkówka 1',\n",
       "  'Odpowiedź ustna 1',\n",
       "  'Odpowiedź ustna 2',\n",
       "  'Odpowiedź ustna 3'],\n",
       " '3a': ['Kartkówka 1', 'Odpowiedź ustna 1', 'Praca domowa 1', 'Sprawdzian 1'],\n",
       " '3c': ['Odpowiedź ustna 1',\n",
       "  'Odpowiedź ustna 2',\n",
       "  'Odpowiedź ustna 3',\n",
       "  'Sprawdzian 1',\n",
       "  'Sprawdzian 2',\n",
       "  'Sprawdzian 3']}"
      ]
     },
     "metadata": {},
     "execution_count": 12
    }
   ],
   "source": [
    "typy_ocen_z_infy"
   ]
  },
  {
   "cell_type": "code",
   "execution_count": 16,
   "metadata": {},
   "outputs": [],
   "source": [
    "def load_data(klasa: str):\n",
    "    return json.loads(Path('.', 'src', 'klasy', str(klasa), f'{klasa}.json').read_text('utf-8'))\n",
    "\n",
    "\n",
    "def save_data(klasa, nazwa, data):\n",
    "    Path('.', 'src', 'klasy', str(klasa), f'{nazwa}.json').write_text(json.dumps(data, indent=4))"
   ]
  },
  {
   "cell_type": "code",
   "execution_count": 26,
   "metadata": {},
   "outputs": [],
   "source": [
    "def gen_grades(klasa, typy_ocen_):\n",
    "    out = []\n",
    "    num_of_students = len(klasa)\n",
    "    for i in typy_ocen_:\n",
    "        t = {'name': i, 'weight': next(filter(lambda x: x['name'] in i, typy_ocen))['weight']}\n",
    "        num_of_grades = randint(num_of_students - randint(0, 6), num_of_students)\n",
    "        students = sample(range(1, num_of_students + 1), num_of_grades)\n",
    "        t['grades'] = [{'student': i, 'grade': choice(grades)} for i in students]\n",
    "        students_without_grade = set(range(1, num_of_students + 1)) - set(students)\n",
    "        t['grades'].extend([{'student': i, 'grade': None} for i in students_without_grade])\n",
    "        t['grades'].sort(key=lambda x: x['student'])\n",
    "        out.append(t)\n",
    "    return out"
   ]
  },
  {
   "cell_type": "code",
   "execution_count": 27,
   "metadata": {},
   "outputs": [],
   "source": [
    "def gen_all_grades(typy_ocen, nazwa):\n",
    "    for klasa, typy in typy_ocen.items():\n",
    "        t = gen_grades(load_data(klasa), typy)\n",
    "        save_data(klasa, nazwa, t)"
   ]
  },
  {
   "cell_type": "code",
   "execution_count": 28,
   "metadata": {},
   "outputs": [],
   "source": [
    "gen_all_grades(typy_ocen_z_polskiego, 'jpolski')"
   ]
  },
  {
   "cell_type": "code",
   "execution_count": 29,
   "metadata": {},
   "outputs": [],
   "source": [
    "gen_all_grades(typy_ocen_z_infy, 'informatyka')"
   ]
  },
  {
   "cell_type": "code",
   "execution_count": null,
   "metadata": {},
   "outputs": [],
   "source": []
  }
 ],
 "metadata": {
  "kernelspec": {
   "display_name": "Python 3",
   "language": "python",
   "name": "python3"
  },
  "language_info": {
   "codemirror_mode": {
    "name": "ipython",
    "version": 3
   },
   "file_extension": ".py",
   "mimetype": "text/x-python",
   "name": "python",
   "nbconvert_exporter": "python",
   "pygments_lexer": "ipython3",
   "version": "3.8.7-candidate"
  }
 },
 "nbformat": 4,
 "nbformat_minor": 4
}