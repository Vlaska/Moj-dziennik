{
 "cells": [
  {
   "cell_type": "code",
   "execution_count": 17,
   "metadata": {},
   "outputs": [],
   "source": [
    "from pathlib import Path\n",
    "import json\n",
    "from random import choices, randint\n",
    "from faker import Faker"
   ]
  },
  {
   "cell_type": "code",
   "execution_count": 2,
   "metadata": {},
   "outputs": [],
   "source": [
    "fa = Faker('pl')"
   ]
  },
  {
   "cell_type": "code",
   "execution_count": 3,
   "metadata": {},
   "outputs": [],
   "source": [
    "klasy = [*['1' + i for i in 'abcdef'], '2a', '3a', '3b', '3c']"
   ]
  },
  {
   "cell_type": "code",
   "execution_count": 4,
   "metadata": {},
   "outputs": [],
   "source": [
    "klasy_liczby = {i:randint(10, 32) for i in klasy}"
   ]
  },
  {
   "cell_type": "code",
   "execution_count": 31,
   "metadata": {},
   "outputs": [],
   "source": [
    "klasy_data = {}"
   ]
  },
  {
   "cell_type": "code",
   "execution_count": 32,
   "metadata": {},
   "outputs": [],
   "source": [
    "for i, liczby in klasy_liczby.items():\n",
    "    t = []\n",
    "    for j in range(liczby):\n",
    "        t.append({\n",
    "            'first_name': fa.first_name(),\n",
    "            'last_name': fa.last_name(),\n",
    "            'id': 0\n",
    "        })\n",
    "    klasy_data[i] = t\n",
    "    t.sort(key=lambda x: (x['last_name'], x['first_name']))\n",
    "    for k, e in enumerate(t, 1):\n",
    "        e['id'] = k "
   ]
  },
  {
   "cell_type": "code",
   "execution_count": 35,
   "metadata": {},
   "outputs": [],
   "source": [
    "klasy_dir = Path('./src/klasy')"
   ]
  },
  {
   "cell_type": "code",
   "execution_count": 38,
   "metadata": {},
   "outputs": [],
   "source": [
    "for i, v in klasy_data.items():\n",
    "    o = klasy_dir / i / f'{i}.json'\n",
    "    o.parent.mkdir(parents=True, exist_ok=True)\n",
    "    o.write_text(json.dumps(v, indent=4))"
   ]
  },
  {
   "cell_type": "code",
   "execution_count": null,
   "metadata": {},
   "outputs": [],
   "source": []
  }
 ],
 "metadata": {
  "kernelspec": {
   "display_name": "Python 3",
   "language": "python",
   "name": "python3"
  },
  "language_info": {
   "codemirror_mode": {
    "name": "ipython",
    "version": 3
   },
   "file_extension": ".py",
   "mimetype": "text/x-python",
   "name": "python",
   "nbconvert_exporter": "python",
   "pygments_lexer": "ipython3",
   "version": "3.8.7-candidate"
  }
 },
 "nbformat": 4,
 "nbformat_minor": 4
}