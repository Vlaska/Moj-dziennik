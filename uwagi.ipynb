{
 "metadata": {
  "language_info": {
   "codemirror_mode": {
    "name": "ipython",
    "version": 3
   },
   "file_extension": ".py",
   "mimetype": "text/x-python",
   "name": "python",
   "nbconvert_exporter": "python",
   "pygments_lexer": "ipython3",
   "version": "3.8.7-candidate"
  },
  "orig_nbformat": 2,
  "kernelspec": {
   "name": "python3",
   "display_name": "Python 3",
   "language": "python"
  }
 },
 "nbformat": 4,
 "nbformat_minor": 2,
 "cells": [
  {
   "cell_type": "code",
   "execution_count": 9,
   "metadata": {},
   "outputs": [],
   "source": [
    "from pathlib import Path\n",
    "import json\n",
    "from random import choices, randint, choice, sample\n",
    "from itertools import product\n",
    "from lorem import paragraph"
   ]
  },
  {
   "cell_type": "code",
   "execution_count": 15,
   "metadata": {},
   "outputs": [],
   "source": [
    "def load_data(klasa: str):\n",
    "    return json.loads(Path('.', 'src', 'klasy', str(klasa), f'{klasa}.json').read_text('utf-8'))\n",
    "\n",
    "\n",
    "def save_data(klasa, nazwa, data):\n",
    "    Path('.', 'src', 'klasy', str(klasa), f'{nazwa}.json').write_text(json.dumps(data, indent=4, sort_keys=True))"
   ]
  },
  {
   "cell_type": "code",
   "execution_count": 13,
   "metadata": {},
   "outputs": [],
   "source": [
    "klasy = [*['1' + i for i in 'abcdef'], '2a', '3a', '3b', '3c']\n",
    "types = ['note', 'pos', 'neg']"
   ]
  },
  {
   "cell_type": "code",
   "execution_count": 16,
   "metadata": {},
   "outputs": [],
   "source": [
    "for i in klasy:\n",
    "    klasa = load_data(i)\n",
    "    num_of_students = len(klasa)\n",
    "    num_of_notes = randint(0, (num_of_students // 5) + 1)\n",
    "    students = choices(range(1, num_of_students + 1), k=num_of_notes)\n",
    "    notes = {j: [] for j in set(students)}\n",
    "    for j in students:\n",
    "        notes[j].append({'type': choice(types), 'text': paragraph()})\n",
    "    save_data(i, 'uwagi', notes)"
   ]
  },
  {
   "cell_type": "code",
   "execution_count": null,
   "metadata": {},
   "outputs": [],
   "source": []
  }
 ]
}